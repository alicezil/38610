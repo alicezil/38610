{
  "nbformat": 4,
  "nbformat_minor": 0,
  "metadata": {
    "colab": {
      "provenance": [],
      "collapsed_sections": [],
      "include_colab_link": true
    },
    "kernelspec": {
      "name": "python3",
      "display_name": "Python 3"
    },
    "language_info": {
      "name": "python"
    }
  },
  "cells": [
    {
      "cell_type": "markdown",
      "metadata": {
        "id": "view-in-github",
        "colab_type": "text"
      },
      "source": [
        "<a href=\"https://colab.research.google.com/github/alicezil/38610/blob/main/Modern_Programming_for_Data_Analytics_Homework_1.ipynb\" target=\"_parent\"><img src=\"https://colab.research.google.com/assets/colab-badge.svg\" alt=\"Open In Colab\"/></a>"
      ]
    },
    {
      "cell_type": "markdown",
      "source": [
        "# Modern Programming for Data Analytics\n",
        "Name: Alice Zilberberg\n",
        "\n",
        "Andrew ID: azilberb"
      ],
      "metadata": {
        "id": "q32gveKttS1e"
      }
    },
    {
      "cell_type": "markdown",
      "source": [
        "# Exercise - Using `pip` to install packages\n",
        "Install the package [cowsay](https://pypi.org/project/cowsay/) using `pip`.\n",
        "\n",
        "Read the package documentation and write the commands to print the following diagram\n",
        "\n",
        "```\n",
        "  _____________\n",
        "| Ghostbusters! |\n",
        "  =============\n",
        "                     \\\n",
        "                      \\\n",
        "                       \\\n",
        "                        \\\n",
        "                                    __---__\n",
        "                                 _-       /--______\n",
        "                            __--( /     \\ )XXXXXXXXXXX\\v.\n",
        "                          .-XXX(   O   O  )XXXXXXXXXXXXXXX-\n",
        "                         /XXX(       U     )        XXXXXXX\\\n",
        "                       /XXXXX(              )--_  XXXXXXXXXXX\\\n",
        "                      /XXXXX/ (      O     )   XXXXXX   \\XXXXX\\\n",
        "                      XXXXX/   /            XXXXXX   \\__ \\XXXXX\n",
        "                      XXXXXX__/          XXXXXX         \\__---->\n",
        "              ---___  XXX__/          XXXXXX      \\__         /\n",
        "                \\-  --__/   ___/\\  XXXXXX            /  ___--/=\n",
        "                 \\-\\    ___/    XXXXXX              '--- XXXXXX\n",
        "                    \\-\\/XXX\\ XXXXXX                      /XXXXX\n",
        "                      \\XXXXXXXXX   \\                    /XXXXX/\n",
        "                       \\XXXXXX      >                 _/XXXXX/\n",
        "                         \\XXXXX--__/              __-- XXXX/\n",
        "                          -XXXXXXXX---------------  XXXXXX-\n",
        "                             \\XXXXXXXXXXXXXXXXXXXXXXXXXX/\n",
        "                               \"\"VXXXXXXXXXXXXXXXXXXV\"\"\n",
        "```"
      ],
      "metadata": {
        "id": "rZpjQ6Yged6i"
      }
    },
    {
      "cell_type": "code",
      "execution_count": null,
      "metadata": {
        "id": "TvbZcWBAedAf",
        "colab": {
          "base_uri": "https://localhost:8080/"
        },
        "outputId": "deb0b656-c807-46e1-9608-57930b7d15c7"
      },
      "outputs": [
        {
          "output_type": "stream",
          "name": "stdout",
          "text": [
            "Looking in indexes: https://pypi.org/simple, https://us-python.pkg.dev/colab-wheels/public/simple/\n",
            "Requirement already satisfied: cowsay in /usr/local/lib/python3.7/dist-packages (5.0)\n",
            "  _____________\n",
            "| Ghostbusters! |\n",
            "  =============\n",
            "                     \\\n",
            "                      \\\n",
            "                       \\\n",
            "                        \\\n",
            "                                    __---__\n",
            "                                 _-       /--______\n",
            "                            __--( /     \\ )XXXXXXXXXXX\\v.\n",
            "                          .-XXX(   O   O  )XXXXXXXXXXXXXXX-\n",
            "                         /XXX(       U     )        XXXXXXX\\\n",
            "                       /XXXXX(              )--_  XXXXXXXXXXX\\\n",
            "                      /XXXXX/ (      O     )   XXXXXX   \\XXXXX\\\n",
            "                      XXXXX/   /            XXXXXX   \\__ \\XXXXX\n",
            "                      XXXXXX__/          XXXXXX         \\__---->\n",
            "              ---___  XXX__/          XXXXXX      \\__         /\n",
            "                \\-  --__/   ___/\\  XXXXXX            /  ___--/=\n",
            "                 \\-\\    ___/    XXXXXX              '--- XXXXXX\n",
            "                    \\-\\/XXX\\ XXXXXX                      /XXXXX\n",
            "                      \\XXXXXXXXX   \\                    /XXXXX/\n",
            "                       \\XXXXXX      >                 _/XXXXX/\n",
            "                         \\XXXXX--__/              __-- XXXX/\n",
            "                          -XXXXXXXX---------------  XXXXXX-\n",
            "                             \\XXXXXXXXXXXXXXXXXXXXXXXXXX/\n",
            "                               \"\"VXXXXXXXXXXXXXXXXXXV\"\"\n"
          ]
        }
      ],
      "source": [
        "!pip install cowsay\n",
        "import cowsay\n",
        "cowsay.ghostbusters('Ghostbusters!')"
      ]
    },
    {
      "cell_type": "markdown",
      "source": [
        "# Exercise - Faker\n",
        "[Faker](https://pypi.org/project/Faker/) is a Python package that generates fake data for you. Whether you need to bootstrap your database, create good-looking XML documents, fill-in your persistence to stress test it, or anonymize data taken from a production service, Faker is for you.\n",
        "\n",
        "The cell below defines the method `generate_fake_records` that generates fake data and stores the data in a dictionary named `team`."
      ],
      "metadata": {
        "id": "pOdGLNPGl9tK"
      }
    },
    {
      "cell_type": "code",
      "source": [
        "# DO NOT MODIFY THIS CELL\n",
        "\n",
        "!pip install faker\n",
        "import numpy as np\n",
        "from faker import Faker\n",
        "\n",
        "fake = Faker()\n",
        "\n",
        "def generate_fake_records( number_of_records ):\n",
        "  '''\n",
        "  Helper function that generates a fake team member record.\n",
        "\n",
        "  :param number_of_records: Number of records to generate\n",
        "  :type number_of_records: integer\n",
        "  :rtype: list of dictionaries\n",
        "  '''\n",
        "\n",
        "  status_list = ['Full Time', 'Part Time']\n",
        "  team_list = ['Data curator','Data wrangler', 'Data analyst','Project manager']\n",
        "  \n",
        "\n",
        "  data = [{'ID':x+1000,\n",
        "          'Name':fake.name(), \n",
        "          'Hire Date':fake.date_between(start_date='-25y', end_date='today'),\n",
        "          'Status':np.random.choice(status_list, p=[0.50, 0.50]),\n",
        "          'Role':np.random.choice(team_list)} for x in range(number_of_records)]\n",
        "      \n",
        "  return data\n",
        "\n",
        "team = generate_fake_records(number_of_records=25)"
      ],
      "metadata": {
        "id": "J_M23E-ul_y4",
        "colab": {
          "base_uri": "https://localhost:8080/"
        },
        "outputId": "0b82a098-fd4c-4225-9ec9-0608bf381f66"
      },
      "execution_count": null,
      "outputs": [
        {
          "output_type": "stream",
          "name": "stdout",
          "text": [
            "Looking in indexes: https://pypi.org/simple, https://us-python.pkg.dev/colab-wheels/public/simple/\n",
            "Collecting faker\n",
            "  Downloading Faker-14.2.0-py3-none-any.whl (1.6 MB)\n",
            "\u001b[K     |████████████████████████████████| 1.6 MB 20.8 MB/s \n",
            "\u001b[?25hRequirement already satisfied: python-dateutil>=2.4 in /usr/local/lib/python3.7/dist-packages (from faker) (2.8.2)\n",
            "Requirement already satisfied: typing-extensions>=3.7.4.3 in /usr/local/lib/python3.7/dist-packages (from faker) (4.1.1)\n",
            "Requirement already satisfied: six>=1.5 in /usr/local/lib/python3.7/dist-packages (from python-dateutil>=2.4->faker) (1.15.0)\n",
            "Installing collected packages: faker\n",
            "Successfully installed faker-14.2.0\n"
          ]
        }
      ]
    },
    {
      "cell_type": "markdown",
      "source": [
        "Tabulate pretty-prints tabular data in Python. It is a library and a command-line utility. Install the package [tabulate](https://pypi.org/project/tabulate/) using `pip`.\n",
        "\n",
        "Read the package documentation and write the necessary code to pretty print the dictionary `team` like the example below\n",
        "\n",
        "```\n",
        "|   ID | Name              | Hire Date   | Status    | Role            |\n",
        "|------|-------------------|-------------|-----------|-----------------|\n",
        "| 1000 | Linda Mcintyre    | 2015-05-21  | Part Time | Project manager |\n",
        "| 1001 | John Garner       | 2005-05-28  | Part Time | Data curator    |\n",
        "| 1002 | Sarah Hoover      | 2015-11-28  | Part Time | Data analyst    |\n",
        "| 1003 | Charles Flores    | 2003-11-16  | Part Time | Project manager |\n",
        "| 1004 | Todd Jones        | 2018-09-14  | Full Time | Data curator    |\n",
        "| 1005 | Kara Marks        | 2016-04-27  | Part Time | Data analyst    |\n",
        "| 1006 | Lee Smith         | 2002-02-07  | Part Time | Data analyst    |\n",
        "| 1007 | Douglas Johnson   | 2021-05-10  | Full Time | Data curator    |\n",
        "| 1008 | Jonathan Garcia   | 2015-07-28  | Full Time | Data wrangler   |\n",
        "| 1009 | William Hopkins   | 2009-02-23  | Part Time | Data analyst    |\n",
        "| 1010 | Candace Ellis     | 2005-09-12  | Full Time | Project manager |\n",
        "| 1011 | Edward Andersen   | 2017-01-25  | Full Time | Data wrangler   |\n",
        "| 1012 | Katie Stewart     | 2007-02-18  | Full Time | Data analyst    |\n",
        "| 1013 | Carolyn Mercado   | 2010-02-08  | Part Time | Data curator    |\n",
        "| 1014 | Heather Fowler    | 2014-10-16  | Part Time | Data wrangler   |\n",
        "| 1015 | Louis Miller      | 2015-10-25  | Part Time | Project manager |\n",
        "| 1016 | James Rojas       | 2013-05-19  | Full Time | Data analyst    |\n",
        "| 1017 | Richard Patterson | 2017-04-22  | Full Time | Data curator    |\n",
        "| 1018 | Joshua Ford       | 2013-06-08  | Part Time | Data analyst    |\n",
        "| 1019 | Katherine Warren  | 2005-02-08  | Part Time | Data curator    |\n",
        "| 1020 | Lawrence Reynolds | 2010-12-28  | Part Time | Project manager |\n",
        "| 1021 | Jay Patterson     | 2003-12-29  | Part Time | Data curator    |\n",
        "| 1022 | Mary Zimmerman    | 2019-03-15  | Full Time | Data curator    |\n",
        "| 1023 | Deanna Peterson   | 2016-03-16  | Part Time | Project manager |\n",
        "| 1024 | Shane Ellis       | 2020-03-14  | Full Time | Data analyst    |\n",
        "```"
      ],
      "metadata": {
        "id": "WWQRe-Wjl_63"
      }
    },
    {
      "cell_type": "code",
      "source": [
        "!pip install tabulate\n",
        "from tabulate import tabulate\n",
        "\n",
        "print(tabulate(team, headers=\"keys\", tablefmt=\"github\"))"
      ],
      "metadata": {
        "id": "FAwdJ_TY4tzu",
        "colab": {
          "base_uri": "https://localhost:8080/"
        },
        "outputId": "fd6ccab1-bb92-4c1c-d375-0b7951415975"
      },
      "execution_count": null,
      "outputs": [
        {
          "output_type": "stream",
          "name": "stdout",
          "text": [
            "Looking in indexes: https://pypi.org/simple, https://us-python.pkg.dev/colab-wheels/public/simple/\n",
            "Requirement already satisfied: tabulate in /usr/local/lib/python3.7/dist-packages (0.8.10)\n",
            "|   ID | Name               | Hire Date   | Status    | Role            |\n",
            "|------|--------------------|-------------|-----------|-----------------|\n",
            "| 1000 | Jacob Foster       | 2003-04-19  | Part Time | Data wrangler   |\n",
            "| 1001 | Allen Ward         | 2017-05-04  | Part Time | Data curator    |\n",
            "| 1002 | Paul Boyer         | 2000-07-27  | Part Time | Data analyst    |\n",
            "| 1003 | Kyle Chandler      | 1998-03-25  | Full Time | Data curator    |\n",
            "| 1004 | Renee Banks        | 1999-01-29  | Part Time | Data curator    |\n",
            "| 1005 | Edwin Collins      | 2020-02-11  | Full Time | Project manager |\n",
            "| 1006 | David Christian    | 2016-09-17  | Part Time | Project manager |\n",
            "| 1007 | Steven Gonzalez    | 2022-04-20  | Full Time | Data curator    |\n",
            "| 1008 | Paul Powers        | 2010-10-13  | Full Time | Data curator    |\n",
            "| 1009 | Dr. Kelsey Mcmahon | 1999-08-21  | Full Time | Data curator    |\n",
            "| 1010 | Larry Allison      | 2006-05-21  | Part Time | Data curator    |\n",
            "| 1011 | Sarah Cole         | 2019-06-13  | Full Time | Data wrangler   |\n",
            "| 1012 | Kylie Wright       | 2014-06-11  | Part Time | Data curator    |\n",
            "| 1013 | Alicia Kim         | 2017-04-23  | Full Time | Project manager |\n",
            "| 1014 | Alex Mosley        | 2014-03-16  | Part Time | Data curator    |\n",
            "| 1015 | Sonia Webb DVM     | 2010-04-21  | Part Time | Data analyst    |\n",
            "| 1016 | Jacob Kane         | 2015-01-31  | Full Time | Data wrangler   |\n",
            "| 1017 | Brenda Briggs      | 1998-12-07  | Full Time | Data wrangler   |\n",
            "| 1018 | Jessica Kennedy    | 2003-04-18  | Part Time | Project manager |\n",
            "| 1019 | Ashley Vance       | 2020-09-09  | Part Time | Data curator    |\n",
            "| 1020 | Noah Zavala        | 2005-07-23  | Part Time | Data analyst    |\n",
            "| 1021 | Teresa Hall        | 2016-02-10  | Part Time | Data curator    |\n",
            "| 1022 | Maria Herrera      | 2013-04-10  | Full Time | Data analyst    |\n",
            "| 1023 | Kimberly Walker    | 2001-01-09  | Full Time | Project manager |\n",
            "| 1024 | Meghan Pierce      | 2021-12-26  | Full Time | Data analyst    |\n"
          ]
        }
      ]
    },
    {
      "cell_type": "markdown",
      "source": [
        "# Exercise - Python Standard Library\n",
        "Use the [docstrings](https://realpython.com/documenting-python-code/) and the [assertions](https://realpython.com/python-assert-statement/) in the cell below as a guide to implement the method `get_n_elements`.\n"
      ],
      "metadata": {
        "id": "zluEy8OW4xED"
      }
    },
    {
      "cell_type": "code",
      "source": [
        "# COMPLETE METHOD AND RUN\n",
        "\n",
        "def get_n_elements( list, n=10 ):\n",
        "  '''\n",
        "  Helper method that returns the first n elements in a sorted list\n",
        "\n",
        "  :param list: list of integers\n",
        "  :type list: list\n",
        "  :param n: number of elements to return\n",
        "  :type n: integer\n",
        "  :rtype answer: sorted list of n elements\n",
        "  '''\n",
        "  sorted_list = sorted(list)\n",
        "  new_list = []\n",
        "  for i in range(n):\n",
        "    new_list.append(sorted_list[i])\n",
        "    i += 1\n",
        "  return new_list\n",
        "\n",
        "\n",
        "assert get_n_elements([1,2,3,4,5,6,7,8], 3) == [1,2,3]\n",
        "assert get_n_elements([8,7,6,5,4,3,2,1], 3) == [1,2,3]\n",
        "assert get_n_elements([8,7,6,5,4,3,2,1], 5) == [1,2,3,4,5]\n",
        "assert get_n_elements([8,7,6,5,4,3,2,1], 0) == []\n",
        "assert get_n_elements([8,7,6,5,4,3,2,1], -10) == []"
      ],
      "metadata": {
        "id": "M6oRvEfo4t1J"
      },
      "execution_count": null,
      "outputs": []
    },
    {
      "cell_type": "markdown",
      "source": [
        "## Exercise - Python Standard Library\n",
        "Design an implement a method called `is_palindrome`. \n",
        "\n",
        "* Use only the standard libary.\n",
        "* This method takes an integer and returns True if the number is a [palindrome](https://en.wikipedia.org/wiki/Palindromic_number). False, otherwise.\n",
        "* If the input argument is not an integer, e.g. a string, then the method should return `None`.\n",
        "* Write docstrings for this method.\n",
        "* Write at least 4 assertions to test your method."
      ],
      "metadata": {
        "id": "zBqatJorqEwN"
      }
    },
    {
      "cell_type": "code",
      "source": [
        "import math\n",
        "\n",
        "def is_palindrome( n ):\n",
        "  '''\n",
        "  Method that returns True if an integer is a palindrome and Flase if otherwise\n",
        "\n",
        "  :param n: number in question\n",
        "  :type n: integer\n",
        "  :rtype answer: boolean \n",
        "  '''\n",
        "  if isinstance( n, int) == False:\n",
        "    return None\n",
        "  \n",
        "  else:\n",
        "    num_digits = len(str(n))\n",
        "    for i in range(num_digits - 1):\n",
        "      j = num_digits - i - 1\n",
        "      digit_a = n // 10**i % 10\n",
        "      digit_b = n // 10**j % 10\n",
        "      if digit_a != digit_b:\n",
        "        return False\n",
        "    return True\n",
        "\n",
        "assert is_palindrome('words') == None\n",
        "assert is_palindrome(1) == True\n",
        "assert is_palindrome(121) == True\n",
        "assert is_palindrome(1221) == True\n",
        "assert is_palindrome(12) == False\n",
        "assert is_palindrome(12212) == False\n"
      ],
      "metadata": {
        "id": "2jr7TEcIqEEZ"
      },
      "execution_count": null,
      "outputs": []
    },
    {
      "cell_type": "markdown",
      "source": [
        "# Exercise - SIR model\n",
        "The SIR model is a simple mathematical model of epidemics. The entities in this model stand for\n",
        "\n",
        "* (S)usceptible: inviduals that are not infected with the disease yet. However, they are not immune to it either, and so they can become infected with the disease in the future.\n",
        "* (I)nfected or infectious: individuals that are infected with the disease and can transmit the disease to susceptible people.\n",
        "* (R)ecovered: individuals who have recovered from the disease and are immune, so they can no longer be infected.\n",
        "\n",
        "In the most basic form, this model model can be represented as\n",
        "\n",
        "<img src=\"https://wikimedia.org/api/rest_v1/media/math/render/svg/c2a8fd2e93bfcf1092a44cfec7ef32c1a80a26f4\" />\n",
        "\n",
        "where \n",
        "\n",
        "* β is the average number of contacts per person per time\n",
        "* γ is the probability a contagious person becoming non-contagious\n",
        "* N is the population size (constant)\n",
        "\n",
        "Solve the system using the [`odeint`](https://docs.scipy.org/doc/scipy/tutorial/integrate.html) solver from scipy.\n",
        "\n",
        "Use these as your parameters for the solver\n",
        "\n",
        "* `beta = 0.2`\n",
        "* `gamma = 0.07`\n",
        "* `N = 100`\n",
        "* `S0 = 99`\n",
        "* `I = 1`\n",
        "* `R = 0`\n",
        "\n",
        "\n",
        "\n"
      ],
      "metadata": {
        "id": "fDxGQ4CC9uNw"
      }
    },
    {
      "cell_type": "code",
      "source": [
        "!pip install scipy\n",
        "from scipy.integrate import odeint\n",
        "\n",
        "#given parameters\n",
        "beta = 0.2\n",
        "gamma = 0.07\n",
        "N = 100\n",
        "S0 = 99\n",
        "I = 1\n",
        "R = 0\n",
        "\n",
        "def epidemic_solver_derivs(s, t, N, beta, gamma):\n",
        "  '''\n",
        "  form derivitives for epidemic solver\n",
        "  \n",
        "  :param beta: average number of contacts per person at a time\n",
        "  :param gamma: probability a contagious person becomes non-contagious\n",
        "  :param N: population size\n",
        "  :param S0: susceptible individuals at start\n",
        "  :param I: infected or infectious individuals\n",
        "  :param R: recovered individuals\n",
        "  '''\n",
        "  S0, I, R = s\n",
        "  dSdt = -((beta * S0 * I) / N)\n",
        "  dIdt = ((beta * S0 * I) / N)- (gamma * I)\n",
        "  dRdt = gamma * I\n",
        "\n",
        "  return dSdt, dIdt, dRdt\n",
        "\n",
        "t = np.linspace(0, 100, 100)\n",
        "solution = odeint(epidemic_solver_derivs, (S0, I, R), t, args=(N, beta, gamma))\n"
      ],
      "metadata": {
        "id": "9JGRfnzwV4em",
        "colab": {
          "base_uri": "https://localhost:8080/"
        },
        "outputId": "5ac73528-03c1-49c2-8a92-13956e2b5589"
      },
      "execution_count": null,
      "outputs": [
        {
          "output_type": "stream",
          "name": "stdout",
          "text": [
            "Looking in indexes: https://pypi.org/simple, https://us-python.pkg.dev/colab-wheels/public/simple/\n",
            "Requirement already satisfied: scipy in /usr/local/lib/python3.7/dist-packages (1.7.3)\n",
            "Requirement already satisfied: numpy<1.23.0,>=1.16.5 in /usr/local/lib/python3.7/dist-packages (from scipy) (1.21.6)\n"
          ]
        }
      ]
    },
    {
      "cell_type": "markdown",
      "source": [
        "## Pretty print results\n",
        "Use [tabulate](https://pypi.org/project/tabulate/) to pretty print the first and the last 50 data points returned by the ODE solver. The table should have 4 columns: (t)ime, S, I and R."
      ],
      "metadata": {
        "id": "Xiw2SXsYV4xL"
      }
    },
    {
      "cell_type": "code",
      "source": [
        "dict_solution = { \"t\":t, \"S\": solution[:, 0], \"I\": solution[:, 1], \"R\": solution[:, 2]}\n",
        "print(tabulate(dict_solution, headers = \"keys\", tablefmt=\"github\"))"
      ],
      "metadata": {
        "id": "wbFTN6yjV731",
        "colab": {
          "base_uri": "https://localhost:8080/"
        },
        "outputId": "bdb3406d-3ff8-42c6-d790-6201fdf64976"
      },
      "execution_count": null,
      "outputs": [
        {
          "output_type": "stream",
          "name": "stdout",
          "text": [
            "|         t |        S |        I |          R |\n",
            "|-----------|----------|----------|------------|\n",
            "|   0       | 99       |  1       |  0         |\n",
            "|   1.0101  | 98.7867  |  1.13778 |  0.0754761 |\n",
            "|   2.0202  | 98.5447  |  1.29396 |  0.161332  |\n",
            "|   3.0303  | 98.2703  |  1.4708  |  0.258947  |\n",
            "|   4.0404  | 97.9593  |  1.67083 |  0.36987   |\n",
            "|   5.05051 | 97.6074  |  1.89678 |  0.495836  |\n",
            "|   6.06061 | 97.2095  |  2.15167 |  0.638784  |\n",
            "|   7.07071 | 96.7604  |  2.43873 |  0.800871  |\n",
            "|   8.08081 | 96.2541  |  2.76142 |  0.984494  |\n",
            "|   9.09091 | 95.6843  |  3.12341 |  1.1923    |\n",
            "|  10.101   | 95.0442  |  3.52855 |  1.42721   |\n",
            "|  11.1111  | 94.3268  |  3.98078 |  1.6924    |\n",
            "|  12.1212  | 93.5246  |  4.48408 |  1.99135   |\n",
            "|  13.1313  | 92.6298  |  5.04237 |  2.32781   |\n",
            "|  14.1414  | 91.6348  |  5.65938 |  2.70579   |\n",
            "|  15.1515  | 90.532   |  6.33844 |  3.12958   |\n",
            "|  16.1616  | 89.314   |  7.08236 |  3.60367   |\n",
            "|  17.1717  | 87.9741  |  7.89319 |  4.13271   |\n",
            "|  18.1818  | 86.5066  |  8.77194 |  4.72148   |\n",
            "|  19.1919  | 84.9068  |  9.71838 |  5.37478   |\n",
            "|  20.202   | 83.1719  | 10.7307  |  6.09735   |\n",
            "|  21.2121  | 81.3008  | 11.8054  |  6.89373   |\n",
            "|  22.2222  | 79.2948  | 12.937   |  7.76815   |\n",
            "|  23.2323  | 77.1578  | 14.1179  |  8.72437   |\n",
            "|  24.2424  | 74.8963  | 15.3382  |  9.76555   |\n",
            "|  25.2525  | 72.5199  | 16.586   | 10.8941    |\n",
            "|  26.2626  | 70.041   | 17.8476  | 12.1114    |\n",
            "|  27.2727  | 67.4746  | 19.1075  | 13.4179    |\n",
            "|  28.2828  | 64.8379  | 20.349   | 14.813     |\n",
            "|  29.2929  | 62.1503  | 21.5549  | 16.2947    |\n",
            "|  30.303   | 59.4322  | 22.7079  | 17.8599    |\n",
            "|  31.3131  | 56.7045  | 23.7912  | 19.5043    |\n",
            "|  32.3232  | 53.9883  | 24.7894  | 21.2223    |\n",
            "|  33.3333  | 51.3036  | 25.6888  | 23.0075    |\n",
            "|  34.3434  | 48.6693  | 26.4782  | 24.8525    |\n",
            "|  35.3535  | 46.1021  | 27.1487  | 26.7491    |\n",
            "|  36.3636  | 43.6167  | 27.6945  | 28.6888    |\n",
            "|  37.3737  | 41.2251  | 28.1124  | 30.6625    |\n",
            "|  38.3838  | 38.9369  | 28.4019  | 32.6612    |\n",
            "|  39.3939  | 36.7588  | 28.5652  | 34.676     |\n",
            "|  40.404   | 34.6955  | 28.6067  | 36.6979    |\n",
            "|  41.4141  | 32.749   | 28.5323  | 38.7186    |\n",
            "|  42.4242  | 30.9199  | 28.3499  | 40.7302    |\n",
            "|  43.4343  | 29.2066  | 28.068   | 42.7254    |\n",
            "|  44.4444  | 27.6066  | 27.6961  | 44.6973    |\n",
            "|  45.4545  | 26.1159  | 27.244   | 46.6401    |\n",
            "|  46.4646  | 24.7302  | 26.7215  | 48.5483    |\n",
            "|  47.4747  | 23.4442  | 26.1384  | 50.4174    |\n",
            "|  48.4848  | 22.2524  | 25.5041  | 52.2435    |\n",
            "|  49.4949  | 21.1492  | 24.8277  | 54.0231    |\n",
            "|  50.5051  | 20.1289  | 24.1174  | 55.7537    |\n",
            "|  51.5152  | 19.1859  | 23.3811  | 57.433     |\n",
            "|  52.5253  | 18.3147  | 22.6257  | 59.0596    |\n",
            "|  53.5354  | 17.5099  | 21.8578  | 60.6323    |\n",
            "|  54.5455  | 16.7667  | 21.0829  | 62.1505    |\n",
            "|  55.5556  | 16.0801  | 20.3061  | 63.6137    |\n",
            "|  56.5657  | 15.4459  | 19.532   | 65.0221    |\n",
            "|  57.5758  | 14.8599  | 18.7642  | 66.376     |\n",
            "|  58.5859  | 14.3181  | 18.0061  | 67.6758    |\n",
            "|  59.596   | 13.8171  | 17.2604  | 68.9226    |\n",
            "|  60.6061  | 13.3535  | 16.5295  | 70.1171    |\n",
            "|  61.6162  | 12.9243  | 15.8153  | 71.2605    |\n",
            "|  62.6263  | 12.5267  | 15.1193  | 72.354     |\n",
            "|  63.6364  | 12.1582  | 14.4428  | 73.399     |\n",
            "|  64.6465  | 11.8165  | 13.7866  | 74.3969    |\n",
            "|  65.6566  | 11.4993  | 13.1516  | 75.3491    |\n",
            "|  66.6667  | 11.2048  | 12.538   | 76.2572    |\n",
            "|  67.6768  | 10.9311  | 11.9462  | 77.1227    |\n",
            "|  68.6869  | 10.6767  | 11.3763  | 77.9471    |\n",
            "|  69.697   | 10.4399  | 10.8281  | 78.732     |\n",
            "|  70.7071  | 10.2195  | 10.3017  | 79.4788    |\n",
            "|  71.7172  | 10.0141  |  9.7966  | 80.1893    |\n",
            "|  72.7273  |  9.82273 |  9.31255 | 80.8647    |\n",
            "|  73.7374  |  9.64421 |  8.84911 | 81.5067    |\n",
            "|  74.7475  |  9.47761 |  8.40581 | 82.1166    |\n",
            "|  75.7576  |  9.32204 |  7.98212 | 82.6958    |\n",
            "|  76.7677  |  9.1767  |  7.57748 | 83.2458    |\n",
            "|  77.7778  |  9.04085 |  7.19131 | 83.7678    |\n",
            "|  78.7879  |  8.9138  |  6.82301 | 84.2632    |\n",
            "|  79.798   |  8.79492 |  6.47197 | 84.7331    |\n",
            "|  80.8081  |  8.68363 |  6.13756 | 85.1788    |\n",
            "|  81.8182  |  8.57941 |  5.81916 | 85.6014    |\n",
            "|  82.8283  |  8.48176 |  5.51616 | 86.0021    |\n",
            "|  83.8384  |  8.39022 |  5.22793 | 86.3818    |\n",
            "|  84.8485  |  8.3044  |  4.95388 | 86.7417    |\n",
            "|  85.8586  |  8.22388 |  4.69341 | 87.0827    |\n",
            "|  86.8687  |  8.14833 |  4.44593 | 87.4057    |\n",
            "|  87.8788  |  8.07741 |  4.21087 | 87.7117    |\n",
            "|  88.8889  |  8.01081 |  3.98769 | 88.0015    |\n",
            "|  89.899   |  7.94825 |  3.77585 | 88.2759    |\n",
            "|  90.9091  |  7.88946 |  3.57482 | 88.5357    |\n",
            "|  91.9192  |  7.83421 |  3.38411 | 88.7817    |\n",
            "|  92.9293  |  7.78227 |  3.20322 | 89.0145    |\n",
            "|  93.9394  |  7.73343 |  3.0317  | 89.2349    |\n",
            "|  94.9495  |  7.68748 |  2.86908 | 89.4434    |\n",
            "|  95.9596  |  7.64425 |  2.71494 | 89.6408    |\n",
            "|  96.9697  |  7.60357 |  2.56887 | 89.8276    |\n",
            "|  97.9798  |  7.56528 |  2.43046 | 90.0043    |\n",
            "|  98.9899  |  7.52923 |  2.29933 | 90.1714    |\n",
            "| 100       |  7.49529 |  2.17513 | 90.3296    |\n"
          ]
        }
      ]
    },
    {
      "cell_type": "markdown",
      "source": [
        "## Save variables to disk\n",
        "Use [pickle](https://docs.python.org/3/library/pickle.html) to serialize the variables `S`, `I`, `R` and `t`. Save the pickle file to the course folder in your Google Drive in a file named `sir.pkl`. \n",
        "\n",
        "Hint: for example, store the variables in a dictionary and then dump the dictionary to a pickle file."
      ],
      "metadata": {
        "id": "kshoCNsWV8Zz"
      }
    },
    {
      "cell_type": "code",
      "source": [
        "from google.colab import drive\n",
        "import pickle\n",
        "drive.mount('/content/drive')\n",
        "\n",
        "path = '/content/drive/MyDrive/38610/'\n",
        "\n",
        "with open(path + 'sir.pkl', 'wb') as handle:\n",
        "  pickle.dump(dict_solution, handle, protocol=pickle.HIGHEST_PROTOCOL)"
      ],
      "metadata": {
        "id": "Fb7_lnNE55UY",
        "colab": {
          "base_uri": "https://localhost:8080/"
        },
        "outputId": "a44d1219-0d99-49bc-fa2d-c4184bb6d9e1"
      },
      "execution_count": null,
      "outputs": [
        {
          "output_type": "stream",
          "name": "stdout",
          "text": [
            "Drive already mounted at /content/drive; to attempt to forcibly remount, call drive.mount(\"/content/drive\", force_remount=True).\n"
          ]
        }
      ]
    },
    {
      "cell_type": "markdown",
      "source": [
        "# Exercise - Matrix multiplication using `numpy`\n",
        "Design an implement a method called `can_be_multiplied`. \n",
        "\n",
        "* Use only the standard libary and `numpy`.\n",
        "* This method takes two Numpy arrays and returns True if these two matrices can be multiplied. False, otherwise.\n",
        "* Work on the assumption that if the input arguments are `a` and `b` (in that order), then the operation `a*b` will be checked by this method and not `b*a`.\n",
        "* If the input argument is not a Numpy array, then the method should return `None`.\n",
        "* Write docstrings for this method.\n",
        "* Write at least 4 assertions to test your method."
      ],
      "metadata": {
        "id": "y4Q5bs-4ujiw"
      }
    },
    {
      "cell_type": "code",
      "source": [
        "import numpy as np\n",
        "\n",
        "def can_be_multiplied(a, b):\n",
        "  '''\n",
        "  method that checks if 2 matrices can be multiplied\n",
        "\n",
        "  :param a: first matrix\n",
        "  :param b: sexond matrix\n",
        "  :type a: np.ndarray\n",
        "  :type b: np.ndarray\n",
        "  :rtype answer: bool\n",
        "\n",
        "  '''\n",
        "  if (isinstance(a, np.ndarray) == False)|(isinstance(b, np.ndarray) == False):\n",
        "    return None\n",
        "  cols_a = np.shape(a)[1]\n",
        "  rows_b = np.shape(b)[0]\n",
        "  if cols_a == rows_b:\n",
        "    return True\n",
        "  else:\n",
        "    return False\n",
        "\n",
        "a = np.zeros((2, 3))\n",
        "b = np.zeros((3, 2))\n",
        "c = np.zeros((5, 5))\n",
        "d = 'words'\n",
        "\n",
        "assert can_be_multiplied(a, d) == None\n",
        "assert can_be_multiplied(d, b) == None\n",
        "assert can_be_multiplied(a, b) == True\n",
        "assert can_be_multiplied(b, a) == True\n",
        "assert can_be_multiplied(a, c) == False\n",
        "assert can_be_multiplied(c, c) == True\n",
        "assert can_be_multiplied(c, a) == False\n"
      ],
      "metadata": {
        "id": "aGKEp07vujpy"
      },
      "execution_count": null,
      "outputs": []
    }
  ]
}